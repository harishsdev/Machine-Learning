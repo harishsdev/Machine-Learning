{
  "nbformat": 4,
  "nbformat_minor": 0,
  "metadata": {
    "colab": {
      "name": "Arrays.ipynb",
      "version": "0.3.2",
      "provenance": [],
      "collapsed_sections": [],
      "include_colab_link": true
    },
    "kernelspec": {
      "name": "python3",
      "display_name": "Python 3"
    }
  },
  "cells": [
    {
      "cell_type": "markdown",
      "metadata": {
        "id": "view-in-github",
        "colab_type": "text"
      },
      "source": [
        "<a href=\"https://colab.research.google.com/github/harishsdev/Machine-Learning/blob/master/Arrays.ipynb\" target=\"_parent\"><img src=\"https://colab.research.google.com/assets/colab-badge.svg\" alt=\"Open In Colab\"/></a>"
      ]
    },
    {
      "metadata": {
        "id": "jI4K87lA7DMv",
        "colab_type": "code",
        "colab": {
          "base_uri": "https://localhost:8080/",
          "height": 70
        },
        "outputId": "a5b4edd3-8830-4024-d6ef-cd7e4605020b"
      },
      "cell_type": "code",
      "source": [
        "\"\"\"python code for createing integer type array\"\"\"\n",
        "import array\n",
        "a=array.array('i',[-5,10,20])\n",
        "for value in a:\n",
        " print(value)"
      ],
      "execution_count": 7,
      "outputs": [
        {
          "output_type": "stream",
          "text": [
            "-5\n",
            "10\n",
            "20\n"
          ],
          "name": "stdout"
        }
      ]
    },
    {
      "metadata": {
        "id": "_9iKDJZl8ORT",
        "colab_type": "code",
        "colab": {
          "base_uri": "https://localhost:8080/",
          "height": 105
        },
        "outputId": "087f2cac-4ee6-4f09-ec96-aae5a8954bfa"
      },
      "cell_type": "code",
      "source": [
        "\"\"\"python code for createing integer type array and retrive elements using for \"\"\"\n",
        "from array import *\n",
        "a=array('i',[10,20,30,40,50])\n",
        "for ele in a:\n",
        "  print(ele)"
      ],
      "execution_count": 10,
      "outputs": [
        {
          "output_type": "stream",
          "text": [
            "10\n",
            "20\n",
            "30\n",
            "40\n",
            "50\n"
          ],
          "name": "stdout"
        }
      ]
    },
    {
      "metadata": {
        "id": "6BuUYugZ965a",
        "colab_type": "code",
        "colab": {
          "base_uri": "https://localhost:8080/",
          "height": 122
        },
        "outputId": "07c697d1-9437-43e6-8b82-d1202db0d9e4"
      },
      "cell_type": "code",
      "source": [
        "\"\"\"python code for createing integer type array and retrive elements using while \"\"\"\n",
        "from array import *\n",
        "a=array('i',[10,20,30,40,50])\n",
        "len1=len(a)\n",
        "print(\"length of array is :\",len1)\n",
        "k=0\n",
        "while k<len1:\n",
        " print (a[k])\n",
        " k=k+1"
      ],
      "execution_count": 21,
      "outputs": [
        {
          "output_type": "stream",
          "text": [
            "length of array is : 5\n",
            "10\n",
            "20\n",
            "30\n",
            "40\n",
            "50\n"
          ],
          "name": "stdout"
        }
      ]
    },
    {
      "metadata": {
        "id": "_HsVZODWDIKb",
        "colab_type": "text"
      },
      "cell_type": "markdown",
      "source": [
        " [start : stop : steps]  \n",
        "\n",
        "which means that slicing will start from index start\n",
        " will go up to stop in step of steps. \n",
        " Default value of start is 0, stop is last index of list\n",
        " and for step it is 1 "
      ]
    },
    {
      "metadata": {
        "id": "ShNUdHE0DfUK",
        "colab_type": "code",
        "colab": {
          "base_uri": "https://localhost:8080/",
          "height": 105
        },
        "outputId": "03abab4d-09da-45a5-8b1f-15108cb4f0e3"
      },
      "cell_type": "code",
      "source": [
        "a=array('i',[10,20,30,40,50,60,70,80,90])\n",
        "print(\"elements:\",a[0:])\n",
        "print(\"elements:\",a[2:])\n",
        "print(\"elements:\",a[:-1])\n",
        "print(\"elements:\",a[:-3])\n",
        "print(\"elements:\",a[1:9:3])\n"
      ],
      "execution_count": 32,
      "outputs": [
        {
          "output_type": "stream",
          "text": [
            "elements: array('i', [10, 20, 30, 40, 50, 60, 70, 80, 90])\n",
            "elements: array('i', [30, 40, 50, 60, 70, 80, 90])\n",
            "elements: array('i', [10, 20, 30, 40, 50, 60, 70, 80])\n",
            "elements: array('i', [10, 20, 30, 40, 50, 60])\n",
            "elements: array('i', [20, 50, 80])\n"
          ],
          "name": "stdout"
        }
      ]
    },
    {
      "metadata": {
        "id": "KARFEbxaEr9a",
        "colab_type": "code",
        "colab": {
          "base_uri": "https://localhost:8080/",
          "height": 122
        },
        "outputId": "cc95d193-8a5b-4876-8dd4-ae43354372f2"
      },
      "cell_type": "code",
      "source": [
        "\"\"\"python program to retrive elements and display using sliceing operator\"\"\"\n",
        "a=array('i',[10,20,30,40,50,60,70,80,90])\n",
        "for i in a[2:8]:\n",
        " print (i)"
      ],
      "execution_count": 30,
      "outputs": [
        {
          "output_type": "stream",
          "text": [
            "30\n",
            "40\n",
            "50\n",
            "60\n",
            "70\n",
            "80\n"
          ],
          "name": "stdout"
        }
      ]
    },
    {
      "metadata": {
        "id": "zDlWJS4MFyza",
        "colab_type": "code",
        "colab": {}
      },
      "cell_type": "code",
      "source": [
        "\"\"\"processing the arrays using insert,push,pop\"\"\"\n",
        "\"\"\"\"\"\"\n"
      ],
      "execution_count": 0,
      "outputs": []
    }
  ]
}